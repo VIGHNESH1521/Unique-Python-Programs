{
 "cells": [
  {
   "cell_type": "markdown",
   "id": "146e97cc",
   "metadata": {
    "pycharm": {
     "name": "#%% md\n"
    }
   },
   "source": [
    "To install the pywhatkit module, we can use the pip command:\n",
    "\n",
    "pip install pywhatkit"
   ]
  },
  {
   "cell_type": "code",
   "execution_count": 3,
   "id": "1732af11",
   "metadata": {
    "pycharm": {
     "name": "#%%\n"
    }
   },
   "outputs": [
    {
     "name": "stdout",
     "output_type": "stream",
     "text": [
      "In 329 seconds web.whatsapp.com will open and after 20 seconds message will be delivered\n",
      "Successfully Sent!\n"
     ]
    }
   ],
   "source": [
    "import pywhatkit\n",
    " \n",
    "try:\n",
    "    pywhatkit.sendwhatmsg(\"+91xxxxxxxxxx\",\n",
    "                        \"Hello from Vigu\",\n",
    "                        20, 47)\n",
    "    print(\"Successfully Sent!\")\n",
    "except:\n",
    "    print(\"An Unexpected Error!\")"
   ]
  },
  {
   "cell_type": "markdown",
   "id": "eda27cfa",
   "metadata": {
    "pycharm": {
     "name": "#%% md\n"
    }
   },
   "source": [
    "In the above code, we have specified the mobile number on which we want to send the message, then the message, and then the time at which the message has to be sent. \n",
    "This module follows the 24 hrs time format, hence the time 20:47 is 08:27 PM."
   ]
  },
  {
   "cell_type": "code",
   "execution_count": null,
   "id": "6922966b",
   "metadata": {
    "pycharm": {
     "name": "#%%\n"
    }
   },
   "outputs": [],
   "source": []
  }
 ],
 "metadata": {
  "kernelspec": {
   "display_name": "Python 3",
   "language": "python",
   "name": "python3"
  },
  "language_info": {
   "codemirror_mode": {
    "name": "ipython",
    "version": 3
   },
   "file_extension": ".py",
   "mimetype": "text/x-python",
   "name": "python",
   "nbconvert_exporter": "python",
   "pygments_lexer": "ipython3",
   "version": "3.7.6"
  }
 },
 "nbformat": 4,
 "nbformat_minor": 5
}