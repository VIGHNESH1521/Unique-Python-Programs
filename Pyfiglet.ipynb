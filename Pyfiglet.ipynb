{
 "cells": [
  {
   "cell_type": "markdown",
   "id": "a89c031c",
   "metadata": {},
   "source": [
    "# ASCII art using pyfiglet module"
   ]
  },
  {
   "cell_type": "code",
   "execution_count": 1,
   "id": "2e3a1ad5",
   "metadata": {},
   "outputs": [
    {
     "name": "stdout",
     "output_type": "stream",
     "text": [
      "Requirement already satisfied: pyfiglet in c:\\users\\vighnesh\\anaconda3\\lib\\site-packages (0.8.post1)\n",
      "Note: you may need to restart the kernel to use updated packages.\n"
     ]
    }
   ],
   "source": [
    "pip install pyfiglet"
   ]
  },
  {
   "cell_type": "markdown",
   "id": "a96a214d",
   "metadata": {},
   "source": [
    "pyfiglet takes ASCII text and renders it in ASCII art fonts.\n",
    "\n",
    "figlet_format method convert ASCII text into ASCII art fonts."
   ]
  },
  {
   "cell_type": "code",
   "execution_count": 4,
   "id": "c17c5baf",
   "metadata": {},
   "outputs": [
    {
     "name": "stdout",
     "output_type": "stream",
     "text": [
      "__     ___       _                     _     \n",
      "\\ \\   / (_) __ _| |__  _ __   ___  ___| |__  \n",
      " \\ \\ / /| |/ _` | '_ \\| '_ \\ / _ \\/ __| '_ \\ \n",
      "  \\ V / | | (_| | | | | | | |  __/\\__ \\ | | |\n",
      "   \\_/  |_|\\__, |_| |_|_| |_|\\___||___/_| |_|\n",
      "           |___/                             \n",
      "\n"
     ]
    }
   ],
   "source": [
    "# import pyfiglet module\n",
    "import pyfiglet\n",
    "\n",
    "font = pyfiglet.figlet_format(\"Vighnesh\")\n",
    "print(font)\n"
   ]
  },
  {
   "cell_type": "code",
   "execution_count": 6,
   "id": "f3cb7586",
   "metadata": {},
   "outputs": [
    {
     "name": "stdout",
     "output_type": "stream",
     "text": [
      " **      **\n",
      "/**     /**\n",
      "/**     /**\n",
      "//**    ** \n",
      " //**  **  \n",
      "  //****   \n",
      "   //**    \n",
      "    //     \n",
      "\n"
     ]
    }
   ],
   "source": [
    "font_1 = pyfiglet.figlet_format(\"V\", font = \"3-d\")\n",
    "print(font_1)"
   ]
  },
  {
   "cell_type": "code",
   "execution_count": 8,
   "id": "fe57114f",
   "metadata": {},
   "outputs": [
    {
     "name": "stdout",
     "output_type": "stream",
     "text": [
      "V     V  III   GGG   U   U \n",
      "V     V   I   G      U   U \n",
      " V   V    I   G  GG  U   U \n",
      "  V V     I   G   G  U   U \n",
      "   V     III   GGG    UUU  \n",
      "                           \n",
      "                           \n",
      "\n"
     ]
    }
   ],
   "source": [
    "result = pyfiglet.figlet_format(\"V I G U\", font = \"alphabet\" )\n",
    "print(result)\n"
   ]
  },
  {
   "cell_type": "code",
   "execution_count": 9,
   "id": "1a15a7bb",
   "metadata": {},
   "outputs": [
    {
     "name": "stdout",
     "output_type": "stream",
     "text": [
      "'########:'########::'####:'########:'##::: ##:'########:::'######::\n",
      " ##.....:: ##.... ##:. ##:: ##.....:: ###:: ##: ##.... ##:'##... ##:\n",
      " ##::::::: ##:::: ##:: ##:: ##::::::: ####: ##: ##:::: ##: ##:::..::\n",
      " ######::: ########::: ##:: ######::: ## ## ##: ##:::: ##:. ######::\n",
      " ##...:::: ##.. ##:::: ##:: ##...:::: ##. ####: ##:::: ##::..... ##:\n",
      " ##::::::: ##::. ##::: ##:: ##::::::: ##:. ###: ##:::: ##:'##::: ##:\n",
      " ##::::::: ##:::. ##:'####: ########: ##::. ##: ########::. ######::\n",
      "..::::::::..:::::..::....::........::..::::..::........::::......:::\n",
      "\n"
     ]
    }
   ],
   "source": [
    "result = pyfiglet.figlet_format(\"FRIENDS\", font = \"banner3-D\" )\n",
    "print(result)\n"
   ]
  },
  {
   "cell_type": "code",
   "execution_count": 17,
   "id": "a08ccc71",
   "metadata": {},
   "outputs": [
    {
     "name": "stdout",
     "output_type": "stream",
     "text": [
      "+-+ +-+ +-+    +-+ +-+ +-+ +-+ +-+    +-+ +-+ +-+ +-+ +-+\n",
      "|A| |P| |J|    |A| |B| |D| |U| |L|    |K| |A| |L| |A| |M|\n",
      "+-+ +-+ +-+    +-+ +-+ +-+ +-+ +-+    +-+ +-+ +-+ +-+ +-+\n",
      "\n"
     ]
    }
   ],
   "source": [
    "result = pyfiglet.figlet_format(\"A P J    A B D U L    K A L A M\", font = \"digital\" )\n",
    "print(result)\n"
   ]
  },
  {
   "cell_type": "code",
   "execution_count": null,
   "id": "301a61d1",
   "metadata": {},
   "outputs": [],
   "source": []
  }
 ],
 "metadata": {
  "kernelspec": {
   "display_name": "Python 3",
   "language": "python",
   "name": "python3"
  },
  "language_info": {
   "codemirror_mode": {
    "name": "ipython",
    "version": 3
   },
   "file_extension": ".py",
   "mimetype": "text/x-python",
   "name": "python",
   "nbconvert_exporter": "python",
   "pygments_lexer": "ipython3",
   "version": "3.7.6"
  }
 },
 "nbformat": 4,
 "nbformat_minor": 5
}
